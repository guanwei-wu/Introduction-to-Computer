{
  "nbformat": 4,
  "nbformat_minor": 0,
  "metadata": {
    "colab": {
      "name": "b08901019_minst.ipynb",
      "provenance": []
    },
    "kernelspec": {
      "name": "python3",
      "display_name": "Python 3"
    }
  },
  "cells": [
    {
      "cell_type": "code",
      "metadata": {
        "id": "0CbappvKEqy7",
        "colab_type": "code",
        "colab": {
          "base_uri": "https://localhost:8080/",
          "height": 797
        },
        "outputId": "42252b0d-dc05-47f7-9c61-e0b7b33ac9b6"
      },
      "source": [
        "import os\n",
        "from keras.models import Sequential, load_model\n",
        "from keras.layers import Dense, Flatten, Conv2D, MaxPool2D\n",
        "from keras.datasets import mnist\n",
        "from keras.utils import np_utils\n",
        "\n",
        "from matplotlib.pyplot import imshow\n",
        "import numpy as np\n",
        "\n",
        "##Load Mnist Dataset\n",
        "(X_train, Y_train), (X_test, Y_test) = mnist.load_data()\n",
        "x_train = X_train.reshape(60000, 28, 28, 1)/255\n",
        "x_test = X_test.reshape(10000, 28, 28, 1)/255\n",
        "\n",
        "##Convert Class Vectors to Binary Class Matrics (Do one-hot encoding)\n",
        "y_train = np_utils.to_categorical(Y_train)\n",
        "y_test = np_utils.to_categorical(Y_test)\n",
        "\n",
        "#print(y_train.shape)\n",
        "#print(y_train[0])\n",
        "\n",
        "##Model Construction\n",
        "model = Sequential()\n",
        "model.add(Conv2D(64, (3, 3), activation = 'relu'))\n",
        "model.add(MaxPool2D(2, 2))\n",
        "model.add(Conv2D(64, (3, 3), activation = 'relu'))\n",
        "model.add(Conv2D(64, (3, 3), activation = 'relu'))\n",
        "model.add(Flatten(input_shape = (28, 28, 1)))\n",
        "model.add(Dense(128, activation='relu'))\n",
        "model.add(Dense(10, activation='softmax'))\n",
        "\n",
        "##Train the Model\n",
        "model.compile(loss = 'categorical_crossentropy', optimizer = 'adam', metrics = ['accuracy'])\n",
        "model.fit(x_train, y_train, epochs = 10, batch_size = 64, verbose = 1)\n",
        "\n",
        "model.summary()\n",
        "\n",
        "##Test the Model\n",
        "loss, accuracy = model.evaluate(x_test, y_test)\n",
        "print('Loss: %s\\nAccuracy: %s' % (loss, accuracy))"
      ],
      "execution_count": 10,
      "outputs": [
        {
          "output_type": "stream",
          "text": [
            "Epoch 1/10\n",
            "60000/60000 [==============================] - 106s 2ms/step - loss: 0.1214 - accuracy: 0.9623\n",
            "Epoch 2/10\n",
            "60000/60000 [==============================] - 105s 2ms/step - loss: 0.0375 - accuracy: 0.9883\n",
            "Epoch 3/10\n",
            "60000/60000 [==============================] - 105s 2ms/step - loss: 0.0237 - accuracy: 0.9921\n",
            "Epoch 4/10\n",
            "60000/60000 [==============================] - 109s 2ms/step - loss: 0.0189 - accuracy: 0.9941\n",
            "Epoch 5/10\n",
            "60000/60000 [==============================] - 105s 2ms/step - loss: 0.0134 - accuracy: 0.9956\n",
            "Epoch 6/10\n",
            "60000/60000 [==============================] - 105s 2ms/step - loss: 0.0109 - accuracy: 0.9963\n",
            "Epoch 7/10\n",
            "60000/60000 [==============================] - 105s 2ms/step - loss: 0.0087 - accuracy: 0.9973\n",
            "Epoch 8/10\n",
            "60000/60000 [==============================] - 105s 2ms/step - loss: 0.0088 - accuracy: 0.9969\n",
            "Epoch 9/10\n",
            "60000/60000 [==============================] - 105s 2ms/step - loss: 0.0061 - accuracy: 0.9981\n",
            "Epoch 10/10\n",
            "60000/60000 [==============================] - 109s 2ms/step - loss: 0.0067 - accuracy: 0.9980\n",
            "Model: \"sequential_10\"\n",
            "_________________________________________________________________\n",
            "Layer (type)                 Output Shape              Param #   \n",
            "=================================================================\n",
            "conv2d_24 (Conv2D)           (None, 26, 26, 64)        640       \n",
            "_________________________________________________________________\n",
            "max_pooling2d_12 (MaxPooling (None, 13, 13, 64)        0         \n",
            "_________________________________________________________________\n",
            "conv2d_25 (Conv2D)           (None, 11, 11, 64)        36928     \n",
            "_________________________________________________________________\n",
            "conv2d_26 (Conv2D)           (None, 9, 9, 64)          36928     \n",
            "_________________________________________________________________\n",
            "flatten_10 (Flatten)         (None, 5184)              0         \n",
            "_________________________________________________________________\n",
            "dense_19 (Dense)             (None, 128)               663680    \n",
            "_________________________________________________________________\n",
            "dense_20 (Dense)             (None, 10)                1290      \n",
            "=================================================================\n",
            "Total params: 739,466\n",
            "Trainable params: 739,466\n",
            "Non-trainable params: 0\n",
            "_________________________________________________________________\n",
            "10000/10000 [==============================] - 5s 532us/step\n",
            "Loss: 0.03919262103710479\n",
            "Accuracy: 0.9900000095367432\n"
          ],
          "name": "stdout"
        }
      ]
    }
  ]
}